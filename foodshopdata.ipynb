{
 "cells": [
  {
   "cell_type": "code",
   "execution_count": 1,
   "id": "b0f2e25c-31f7-47c1-8b17-df0e754fbd9f",
   "metadata": {},
   "outputs": [],
   "source": [
    "df = read.csv(\"ORproject_customer_data.csv\",sep=\"\\t\")\n",
    "# df2=read.csv(\"ORproject_arrival_times.csv\",sep=\"\\t\")"
   ]
  },
  {
   "cell_type": "code",
   "execution_count": 2,
   "id": "8a40fd9d-0f18-480d-b7ad-dacb4f985c2f",
   "metadata": {},
   "outputs": [
    {
     "data": {
      "text/html": [
       "<table class=\"dataframe\">\n",
       "<caption>A data.frame: 6 × 12</caption>\n",
       "<thead>\n",
       "\t<tr><th></th><th scope=col>observation_id</th><th scope=col>observer</th><th scope=col>date</th><th scope=col>que_length_on_entry</th><th scope=col>time_of_entry</th><th scope=col>time_of_order</th><th scope=col>time_of_service_end</th><th scope=col>hot_drink</th><th scope=col>breakfast_roll</th><th scope=col>pastry_cake_sandwich</th><th scope=col>cold_drink</th><th scope=col>other_hot_food</th></tr>\n",
       "\t<tr><th></th><th scope=col>&lt;int&gt;</th><th scope=col>&lt;chr&gt;</th><th scope=col>&lt;chr&gt;</th><th scope=col>&lt;int&gt;</th><th scope=col>&lt;chr&gt;</th><th scope=col>&lt;chr&gt;</th><th scope=col>&lt;chr&gt;</th><th scope=col>&lt;int&gt;</th><th scope=col>&lt;int&gt;</th><th scope=col>&lt;int&gt;</th><th scope=col>&lt;int&gt;</th><th scope=col>&lt;int&gt;</th></tr>\n",
       "</thead>\n",
       "<tbody>\n",
       "\t<tr><th scope=row>1</th><td> 5</td><td>Joel</td><td>03/11/2023</td><td>1</td><td>08:32:20</td><td>08:32:40</td><td>08:33:53</td><td>1</td><td>1</td><td>0</td><td>0</td><td>0</td></tr>\n",
       "\t<tr><th scope=row>2</th><td> 6</td><td>Joel</td><td>03/11/2023</td><td>4</td><td>08:41:15</td><td>08:43:10</td><td>08:43:38</td><td>0</td><td>0</td><td>2</td><td>0</td><td>0</td></tr>\n",
       "\t<tr><th scope=row>3</th><td> 7</td><td>Joel</td><td>03/11/2023</td><td>0</td><td>08:47:17</td><td>08:47:17</td><td>08:50:18</td><td>0</td><td>0</td><td>0</td><td>1</td><td>1</td></tr>\n",
       "\t<tr><th scope=row>4</th><td> 8</td><td>Joel</td><td>03/11/2023</td><td>2</td><td>08:50:50</td><td>08:51:25</td><td>08:51:40</td><td>0</td><td>0</td><td>1</td><td>0</td><td>0</td></tr>\n",
       "\t<tr><th scope=row>5</th><td> 9</td><td>Joel</td><td>03/11/2023</td><td>6</td><td>08:54:28</td><td>08:55:30</td><td>08:57:00</td><td>1</td><td>0</td><td>1</td><td>0</td><td>0</td></tr>\n",
       "\t<tr><th scope=row>6</th><td>10</td><td>Joel</td><td>03/11/2023</td><td>1</td><td>08:59:51</td><td>09:00:00</td><td>09:00:20</td><td>0</td><td>0</td><td>1</td><td>1</td><td>0</td></tr>\n",
       "</tbody>\n",
       "</table>\n"
      ],
      "text/latex": [
       "A data.frame: 6 × 12\n",
       "\\begin{tabular}{r|llllllllllll}\n",
       "  & observation\\_id & observer & date & que\\_length\\_on\\_entry & time\\_of\\_entry & time\\_of\\_order & time\\_of\\_service\\_end & hot\\_drink & breakfast\\_roll & pastry\\_cake\\_sandwich & cold\\_drink & other\\_hot\\_food\\\\\n",
       "  & <int> & <chr> & <chr> & <int> & <chr> & <chr> & <chr> & <int> & <int> & <int> & <int> & <int>\\\\\n",
       "\\hline\n",
       "\t1 &  5 & Joel & 03/11/2023 & 1 & 08:32:20 & 08:32:40 & 08:33:53 & 1 & 1 & 0 & 0 & 0\\\\\n",
       "\t2 &  6 & Joel & 03/11/2023 & 4 & 08:41:15 & 08:43:10 & 08:43:38 & 0 & 0 & 2 & 0 & 0\\\\\n",
       "\t3 &  7 & Joel & 03/11/2023 & 0 & 08:47:17 & 08:47:17 & 08:50:18 & 0 & 0 & 0 & 1 & 1\\\\\n",
       "\t4 &  8 & Joel & 03/11/2023 & 2 & 08:50:50 & 08:51:25 & 08:51:40 & 0 & 0 & 1 & 0 & 0\\\\\n",
       "\t5 &  9 & Joel & 03/11/2023 & 6 & 08:54:28 & 08:55:30 & 08:57:00 & 1 & 0 & 1 & 0 & 0\\\\\n",
       "\t6 & 10 & Joel & 03/11/2023 & 1 & 08:59:51 & 09:00:00 & 09:00:20 & 0 & 0 & 1 & 1 & 0\\\\\n",
       "\\end{tabular}\n"
      ],
      "text/markdown": [
       "\n",
       "A data.frame: 6 × 12\n",
       "\n",
       "| <!--/--> | observation_id &lt;int&gt; | observer &lt;chr&gt; | date &lt;chr&gt; | que_length_on_entry &lt;int&gt; | time_of_entry &lt;chr&gt; | time_of_order &lt;chr&gt; | time_of_service_end &lt;chr&gt; | hot_drink &lt;int&gt; | breakfast_roll &lt;int&gt; | pastry_cake_sandwich &lt;int&gt; | cold_drink &lt;int&gt; | other_hot_food &lt;int&gt; |\n",
       "|---|---|---|---|---|---|---|---|---|---|---|---|---|\n",
       "| 1 |  5 | Joel | 03/11/2023 | 1 | 08:32:20 | 08:32:40 | 08:33:53 | 1 | 1 | 0 | 0 | 0 |\n",
       "| 2 |  6 | Joel | 03/11/2023 | 4 | 08:41:15 | 08:43:10 | 08:43:38 | 0 | 0 | 2 | 0 | 0 |\n",
       "| 3 |  7 | Joel | 03/11/2023 | 0 | 08:47:17 | 08:47:17 | 08:50:18 | 0 | 0 | 0 | 1 | 1 |\n",
       "| 4 |  8 | Joel | 03/11/2023 | 2 | 08:50:50 | 08:51:25 | 08:51:40 | 0 | 0 | 1 | 0 | 0 |\n",
       "| 5 |  9 | Joel | 03/11/2023 | 6 | 08:54:28 | 08:55:30 | 08:57:00 | 1 | 0 | 1 | 0 | 0 |\n",
       "| 6 | 10 | Joel | 03/11/2023 | 1 | 08:59:51 | 09:00:00 | 09:00:20 | 0 | 0 | 1 | 1 | 0 |\n",
       "\n"
      ],
      "text/plain": [
       "  observation_id observer date       que_length_on_entry time_of_entry\n",
       "1  5             Joel     03/11/2023 1                   08:32:20     \n",
       "2  6             Joel     03/11/2023 4                   08:41:15     \n",
       "3  7             Joel     03/11/2023 0                   08:47:17     \n",
       "4  8             Joel     03/11/2023 2                   08:50:50     \n",
       "5  9             Joel     03/11/2023 6                   08:54:28     \n",
       "6 10             Joel     03/11/2023 1                   08:59:51     \n",
       "  time_of_order time_of_service_end hot_drink breakfast_roll\n",
       "1 08:32:40      08:33:53            1         1             \n",
       "2 08:43:10      08:43:38            0         0             \n",
       "3 08:47:17      08:50:18            0         0             \n",
       "4 08:51:25      08:51:40            0         0             \n",
       "5 08:55:30      08:57:00            1         0             \n",
       "6 09:00:00      09:00:20            0         0             \n",
       "  pastry_cake_sandwich cold_drink other_hot_food\n",
       "1 0                    0          0             \n",
       "2 2                    0          0             \n",
       "3 0                    1          1             \n",
       "4 1                    0          0             \n",
       "5 1                    0          0             \n",
       "6 1                    1          0             "
      ]
     },
     "metadata": {},
     "output_type": "display_data"
    }
   ],
   "source": [
    "head(df)"
   ]
  },
  {
   "cell_type": "code",
   "execution_count": null,
   "id": "67517bd2-7075-468b-a6ad-b03723f94f5d",
   "metadata": {},
   "outputs": [],
   "source": [
    "# information about the data\n",
    "# the data was collected from a food shop\n",
    "# observer - person who took the observation\n",
    "# date - date on which the data was taken\n",
    "# que_length_on_entry - length of the queue when the observed person entered the shop\n",
    "# time_of_entry - time at which the the observed person entered the shop\n",
    "# time_of_order - time at which the observed person ordered\n",
    "# time_of_service_end - time at which the observed person was served\n",
    "# hot_drink - amount of hot drink/s the observed person ordered, this was usually 0 or 1 \n",
    "# breakfast_roll - amount of breakfast roll/s the observed person ordered, this was usually 0 or 1 \n",
    "# pastry_cake_sandwich - amount of hot drink the observed person ordered, this was usually 0 or 1 \n",
    "# cold_drink - amount of hot drink the observed person ordered, this was usually 0 or 1 \n",
    "# other_hot_food - amount of hot drink the observed person ordered, this was usually 0 or 1 "
   ]
  },
  {
   "cell_type": "code",
   "execution_count": 3,
   "id": "176930e7-b192-49fd-b660-6584c35deb1d",
   "metadata": {},
   "outputs": [],
   "source": [
    "# convert time into seconds\n",
    "time_of_entry <- sapply(strsplit(df$time_of_entry, \":\"), function(x) as.numeric(x[1]) * 3600 + as.numeric(x[2]) * 60 + as.numeric(x[3]))\n",
    "time_of_order <- sapply(strsplit(df$time_of_order, \":\"), function(x) as.numeric(x[1]) * 3600 + as.numeric(x[2]) * 60 + as.numeric(x[3]))\n",
    "time_of_service_end <- sapply(strsplit(df$time_of_service_end, \":\"), function(x) as.numeric(x[1]) * 3600 + as.numeric(x[2]) * 60 + as.numeric(x[3]))\n",
    "# calculate the seconds spend while in queue and while waiting after giving the order\n",
    "que_time <- time_of_order - time_of_entry \n",
    "wait_time <- time_of_service_end - time_of_order                              \n",
    "# add these to the data frame\n",
    "df$wait_time <- wait_time\n",
    "df$que_time <- que_time"
   ]
  },
  {
   "cell_type": "code",
   "execution_count": 4,
   "id": "589cf6db-3d54-4d19-8460-11889f2dd9d5",
   "metadata": {},
   "outputs": [
    {
     "name": "stdout",
     "output_type": "stream",
     "text": [
      "hour_of_day\n",
      " 8  9 10 \n",
      "14 46 12 \n"
     ]
    },
    {
     "data": {
      "text/html": [
       "<table class=\"dataframe\">\n",
       "<caption>A data.frame: 6 × 2</caption>\n",
       "<thead>\n",
       "\t<tr><th scope=col>df$date_hour</th><th scope=col>que_time</th></tr>\n",
       "\t<tr><th scope=col>&lt;chr&gt;</th><th scope=col>&lt;dbl&gt;</th></tr>\n",
       "</thead>\n",
       "<tbody>\n",
       "\t<tr><td>03/11/2023 8:00:00 </td><td> 46.40000</td></tr>\n",
       "\t<tr><td>03/11/2023 9:00:00 </td><td> 27.05556</td></tr>\n",
       "\t<tr><td>10/11/2023 9:00:00 </td><td> 61.06250</td></tr>\n",
       "\t<tr><td>13/11/2023 10:00:00</td><td>150.33333</td></tr>\n",
       "\t<tr><td>13/11/2023 8:00:00 </td><td> 75.33333</td></tr>\n",
       "\t<tr><td>13/11/2023 9:00:00 </td><td> 64.83333</td></tr>\n",
       "</tbody>\n",
       "</table>\n"
      ],
      "text/latex": [
       "A data.frame: 6 × 2\n",
       "\\begin{tabular}{ll}\n",
       " df\\$date\\_hour & que\\_time\\\\\n",
       " <chr> & <dbl>\\\\\n",
       "\\hline\n",
       "\t 03/11/2023 8:00:00  &  46.40000\\\\\n",
       "\t 03/11/2023 9:00:00  &  27.05556\\\\\n",
       "\t 10/11/2023 9:00:00  &  61.06250\\\\\n",
       "\t 13/11/2023 10:00:00 & 150.33333\\\\\n",
       "\t 13/11/2023 8:00:00  &  75.33333\\\\\n",
       "\t 13/11/2023 9:00:00  &  64.83333\\\\\n",
       "\\end{tabular}\n"
      ],
      "text/markdown": [
       "\n",
       "A data.frame: 6 × 2\n",
       "\n",
       "| df$date_hour &lt;chr&gt; | que_time &lt;dbl&gt; |\n",
       "|---|---|\n",
       "| 03/11/2023 8:00:00  |  46.40000 |\n",
       "| 03/11/2023 9:00:00  |  27.05556 |\n",
       "| 10/11/2023 9:00:00  |  61.06250 |\n",
       "| 13/11/2023 10:00:00 | 150.33333 |\n",
       "| 13/11/2023 8:00:00  |  75.33333 |\n",
       "| 13/11/2023 9:00:00  |  64.83333 |\n",
       "\n"
      ],
      "text/plain": [
       "  df$date_hour        que_time \n",
       "1 03/11/2023 8:00:00   46.40000\n",
       "2 03/11/2023 9:00:00   27.05556\n",
       "3 10/11/2023 9:00:00   61.06250\n",
       "4 13/11/2023 10:00:00 150.33333\n",
       "5 13/11/2023 8:00:00   75.33333\n",
       "6 13/11/2023 9:00:00   64.83333"
      ]
     },
     "metadata": {},
     "output_type": "display_data"
    },
    {
     "name": "stdout",
     "output_type": "stream",
     "text": [
      "  hour_of_day  que_time\n",
      "1           8  65.00000\n",
      "2           9  48.73913\n",
      "3          10 150.33333\n",
      "  hour_of_day wait_time\n",
      "1           8 101.92857\n",
      "2           9  62.76087\n",
      "3          10  48.00000\n"
     ]
    }
   ],
   "source": [
    "# take out hour from time of order\n",
    "hour_of_day <- sapply(strsplit(df$time_of_order, \":\"), function(x) as.numeric(x[1]))\n",
    "df$hour_of_day <- hour_of_day\n",
    "df$hour_of_day_str <- sapply(df$hour_of_day, function(x) paste(as.character(x), \"00:00\", sep=\":\")) \n",
    "# table showing peak and off peak hours\n",
    "print(table(hour_of_day))\n",
    "# do aggregations, group by hour_of_day                              \n",
    "mean_que_time_perhour <- aggregate(que_time ~ hour_of_day, FUN = mean)\n",
    "mean_wait_time_perhour <- aggregate(wait_time ~ hour_of_day, FUN = mean)\n",
    "# Concatenate the two columns into a new column named datetime\n",
    "df$date_hour <- paste(df$date, df$hour_of_day_str)\n",
    "# Print the updated data frame\n",
    "aggregate(que_time~df$date_hour, FUN= mean)\n",
    "print(mean_que_time_perhour)\n",
    "print(mean_wait_time_perhour)                               "
   ]
  },
  {
   "cell_type": "code",
   "execution_count": 5,
   "id": "50a8cb57-4101-4d15-b1ed-3eb4e0422c66",
   "metadata": {},
   "outputs": [
    {
     "data": {
      "image/png": "[encoded data removed]",
      "text/plain": [
       "plot without title"
      ]
     },
     "metadata": {
      "image/png": {
       "height": 420,
       "width": 420
      }
     },
     "output_type": "display_data"
    }
   ],
   "source": [
    "# plot peak time\n",
    "plot(df$hour_of_day~df$que_time, xlab=\"Time spent in queue\",ylab=\"Hour Of Day\",col=c(\"red\",\"green\",\"blue\"))"
   ]
  },
  {
   "cell_type": "code",
   "execution_count": 6,
   "id": "8e8c33cf-d18a-4599-a8e2-9239d346adc3",
   "metadata": {},
   "outputs": [
    {
     "data": {
      "image/png": "[encoded data removed]",
      "text/plain": [
       "plot without title"
      ]
     },
     "metadata": {
      "image/png": {
       "height": 420,
       "width": 420
      }
     },
     "output_type": "display_data"
    }
   ],
   "source": [
    "# comparison of wait_time and que_time\n",
    "boxplot(wait_time,que_time, names=c(\"Wait Time\",\"Que Time\"), ylab=\"seconds\", col=c(\"yellow\",\"orange\"))                              "
   ]
  },
  {
   "cell_type": "code",
   "execution_count": 7,
   "id": "f56464a5-124d-4af9-a304-dc902e61f9be",
   "metadata": {},
   "outputs": [
    {
     "data": {
      "text/html": [
       "'Average time spent per que step 22.839'"
      ],
      "text/latex": [
       "'Average time spent per que step 22.839'"
      ],
      "text/markdown": [
       "'Average time spent per que step 22.839'"
      ],
      "text/plain": [
       "[1] \"Average time spent per que step 22.839\""
      ]
     },
     "metadata": {},
     "output_type": "display_data"
    },
    {
     "data": {
      "text/html": [
       "'Average queue size 3.014'"
      ],
      "text/latex": [
       "'Average queue size 3.014'"
      ],
      "text/markdown": [
       "'Average queue size 3.014'"
      ],
      "text/plain": [
       "[1] \"Average queue size 3.014\""
      ]
     },
     "metadata": {},
     "output_type": "display_data"
    },
    {
     "data": {
      "text/html": [
       "'Average time spent in queue 68.833'"
      ],
      "text/latex": [
       "'Average time spent in queue 68.833'"
      ],
      "text/markdown": [
       "'Average time spent in queue 68.833'"
      ],
      "text/plain": [
       "[1] \"Average time spent in queue 68.833\""
      ]
     },
     "metadata": {},
     "output_type": "display_data"
    }
   ],
   "source": [
    "total_time_spent_in_queue <- sum(que_time)\n",
    "total_que_lengths <- sum(df$que_length_on_entry)\n",
    "ratio_quetime_quelength <- total_time_spent_in_queue/total_que_lengths\n",
    "sprintf(\"Average time spent per que step %.3f\",ratio_quetime_quelength)\n",
    "sprintf(\"Average queue size %.3f\",mean(que_time)/ratio_quetime_quelength)\n",
    "sprintf(\"Average time spent in queue %.3f\",mean(que_time))"
   ]
  },
  {
   "cell_type": "code",
   "execution_count": 8,
   "id": "20319e8c-a85b-4516-a256-23a5db989edc",
   "metadata": {},
   "outputs": [
    {
     "data": {
      "text/html": [
       "'Average wait time 67.917'"
      ],
      "text/latex": [
       "'Average wait time 67.917'"
      ],
      "text/markdown": [
       "'Average wait time 67.917'"
      ],
      "text/plain": [
       "[1] \"Average wait time 67.917\""
      ]
     },
     "metadata": {},
     "output_type": "display_data"
    }
   ],
   "source": [
    "sprintf(\"Average wait time %.3f\", mean(wait_time))"
   ]
  },
  {
   "cell_type": "code",
   "execution_count": 9,
   "id": "e02b0f60-6bb8-4153-b35f-c444a753e3d7",
   "metadata": {},
   "outputs": [],
   "source": [
    "# deal with missing values, NA only present in coulumns which shows the amount of food bought\n",
    "# using probability to approximate NA values\n",
    "foods <- df[8:12]\n",
    "probabilities <- function(x) {\n",
    "    x <- x[(x>=0|x>=1) & !is.na(x)]\n",
    "    x <- ifelse(x>=1,1,0)\n",
    "    return (sum(x)/length(x))\n",
    "}\n",
    "prob1 = probabilities(foods[1])\n",
    "foods[1][is.na(foods[1])] <- sample(c(0, 1), size = sum(is.na(foods[1])), prob = c(1 - prob1, prob1), replace = TRUE)\n",
    "\n",
    "prob2 = probabilities(foods[2])\n",
    "foods[2][is.na(foods[2])] <- sample(c(0, 1), size = sum(is.na(foods[2])), prob = c(1 - prob2, prob2), replace = TRUE)\n",
    "\n",
    "prob3 = probabilities(foods[3])\n",
    "foods[3][is.na(foods[5])] <- sample(c(0, 1), size = sum(is.na(foods[3])), prob = c(1 - prob3, prob3), replace = TRUE)\n",
    "\n",
    "prob4 = probabilities(foods[4])\n",
    "foods[4][is.na(foods[4])] <- sample(c(0, 1), size = sum(is.na(foods[4])), prob = c(1 - prob4, prob4), replace = TRUE)\n",
    "\n",
    "prob5 = probabilities(foods[5])\n",
    "foods[5][is.na(foods[5])] <- sample(c(0, 1), size = sum(is.na(foods[5])), prob = c(1 - prob5, prob5), replace = TRUE)\n",
    "\n",
    "# binarize the filled data as we can assume that since only few values are above 1\n",
    "foods[1][foods[1]>1] <- 1\n",
    "foods[2][foods[2]>1] <- 1\n",
    "foods[3][foods[3]>1] <- 1\n",
    "foods[4][foods[4]>1] <- 1\n",
    "foods[5][foods[5]>1] <- 1"
   ]
  },
  {
   "cell_type": "code",
   "execution_count": 10,
   "id": "7c58c9d4-99ea-4e56-9c5d-256bafe52f47",
   "metadata": {},
   "outputs": [
    {
     "name": "stderr",
     "output_type": "stream",
     "text": [
      "Warning message:\n",
      "\"package 'corrplot' was built under R version 4.3.2\"\n",
      "corrplot 0.92 loaded\n",
      "\n"
     ]
    },
    {
     "data": {
      "text/html": [
       "<table class=\"dataframe\">\n",
       "<caption>A matrix: 1 × 1 of type dbl</caption>\n",
       "<thead>\n",
       "\t<tr><th></th><th scope=col>cold_drink</th></tr>\n",
       "</thead>\n",
       "<tbody>\n",
       "\t<tr><th scope=row>hot_drink</th><td>-0.2835828</td></tr>\n",
       "</tbody>\n",
       "</table>\n"
      ],
      "text/latex": [
       "A matrix: 1 × 1 of type dbl\n",
       "\\begin{tabular}{r|l}\n",
       "  & cold\\_drink\\\\\n",
       "\\hline\n",
       "\thot\\_drink & -0.2835828\\\\\n",
       "\\end{tabular}\n"
      ],
      "text/markdown": [
       "\n",
       "A matrix: 1 × 1 of type dbl\n",
       "\n",
       "| <!--/--> | cold_drink |\n",
       "|---|---|\n",
       "| hot_drink | -0.2835828 |\n",
       "\n"
      ],
      "text/plain": [
       "          cold_drink\n",
       "hot_drink -0.2835828"
      ]
     },
     "metadata": {},
     "output_type": "display_data"
    },
    {
     "data": {
      "image/png": "[encoded data removed]",
      "text/plain": [
       "Plot with title \"\""
      ]
     },
     "metadata": {
      "image/png": {
       "height": 420,
       "width": 420
      }
     },
     "output_type": "display_data"
    }
   ],
   "source": [
    "# correlations between food typesE\n",
    "library(corrplot)\n",
    "foodscor <- cor(foods)\n",
    "corrplot(foodscor, method=\"circle\")\n",
    "# correlating between hot_drink and cold_drink\n",
    "cor(foods[1],foods[4])"
   ]
  },
  {
   "cell_type": "code",
   "execution_count": 11,
   "id": "c996dc45-d5ea-4f62-9776-bac23fae3686",
   "metadata": {},
   "outputs": [
    {
     "name": "stdout",
     "output_type": "stream",
     "text": [
      "[1] 0.8700264\n"
     ]
    }
   ],
   "source": [
    "# correlation between time spent in queue and queue length\n",
    "que_length_on_entry <- df$que_length_on_entry\n",
    "print(cor(que_length_on_entry,que_time))"
   ]
  },
  {
   "cell_type": "code",
   "execution_count": 12,
   "id": "9700802d-2e12-4717-b050-31123eb1fdde",
   "metadata": {},
   "outputs": [
    {
     "data": {
      "image/png": "[encoded data removed]",
      "text/plain": [
       "plot without title"
      ]
     },
     "metadata": {
      "image/png": {
       "height": 420,
       "width": 420
      }
     },
     "output_type": "display_data"
    }
   ],
   "source": [
    "#cumsum of sale of foods after filling NA and binarization\n",
    "chd <- cumsum(foods[1])\n",
    "cbr <- cumsum(foods[2])\n",
    "cpcs <- cumsum(foods[3])\n",
    "ccd <- cumsum(foods[4])\n",
    "cohf <- cumsum(foods[5])\n",
    "plot(1:length(unlist(chd)), unlist(chd), xlab = \"Number of records\", ylab=\"Cumulative sales\",type='l')\n",
    "lines(cbr, col='red')\n",
    "lines(cpcs, col='blue')\n",
    "lines(ccd, col='green')\n",
    "lines(cohf, col='violet')\n",
    "legend(x=5, y=35, c(\"hot_drinks\", \"breakfast_roll\", \"pastry_cake_sandwich\", \"cold_drink\",\"other_hot_food\"), fill=c(\"black\",\"red\",\"blue\",\"green\",\"violet\"))"
   ]
  },
  {
   "cell_type": "code",
   "execution_count": 13,
   "id": "e152e34e-0d2c-405a-aa6e-c55a404c1d93",
   "metadata": {},
   "outputs": [
    {
     "data": {
      "image/png": "[encoded data removed]",
      "text/plain": [
       "plot without title"
      ]
     },
     "metadata": {
      "image/png": {
       "height": 420,
       "width": 420
      }
     },
     "output_type": "display_data"
    }
   ],
   "source": [
    "que_time_sorted = sort(que_time)\n",
    "probabilities <- seq(0.01,1,b=1/length(que_time_sorted))\n",
    "\n",
    "# check if wait_time follows normal, eponential, student, uniform or poisson distribution\n",
    "qn <- qnorm(probabilities, mean=0,sd=1)\n",
    "qe <- qexp(probabilities, rate = 1)\n",
    "qtt <- qt(probabilities, df = length(que_time_sorted)-1)\n",
    "qu <- qunif(probabilities, min=0,max=1)\n",
    "qp <- qpois(probabilities, lambda=2)\n",
    "\n",
    "par(mfrow = c(2, 3))\n",
    "plot(qn,que_time_sorted)\n",
    "qqline(que_time_sorted)\n",
    "plot(qe,que_time_sorted)\n",
    "qqline(que_time_sorted)\n",
    "plot(qtt,que_time_sorted)\n",
    "qqline(que_time_sorted)\n",
    "plot(qu,que_time_sorted)\n",
    "qqline(que_time_sorted)\n",
    "plot(qp,que_time_sorted)\n",
    "qqline(que_time_sorted)\n"
   ]
  },
  {
   "cell_type": "code",
   "execution_count": 14,
   "id": "dd1d790d-5b8c-4e65-a4c9-766530dac8a7",
   "metadata": {},
   "outputs": [
    {
     "data": {
      "image/png": "[encoded data removed]",
      "text/plain": [
       "plot without title"
      ]
     },
     "metadata": {
      "image/png": {
       "height": 420,
       "width": 420
      }
     },
     "output_type": "display_data"
    }
   ],
   "source": [
    "wait_time_sorted = sort(wait_time)\n",
    "probabilities <- seq(0.01,1,b=1/length(wait_time))\n",
    "\n",
    "# check if wait_time follows normal, eponential, student, uniform or poisson distribution\n",
    "qn <- qnorm(probabilities, mean=0,sd=1)\n",
    "qe <- qexp(probabilities, rate = 1)\n",
    "qtt <- qt(probabilities, df = length(que_time_sorted)-1)\n",
    "qu <- qunif(probabilities, min=0,max=1)\n",
    "qp <- qpois(probabilities, lambda=2)\n",
    "\n",
    "par(mfrow = c(2, 3))\n",
    "plot(qn,wait_time_sorted)\n",
    "qqline(wait_time_sorted)\n",
    "plot(qe,wait_time_sorted)\n",
    "qqline(wait_time_sorted)\n",
    "plot(qtt,wait_time_sorted)\n",
    "qqline(wait_time_sorted)\n",
    "plot(qu,wait_time_sorted)\n",
    "qqline(wait_time_sorted)\n",
    "plot(qp,wait_time_sorted)\n",
    "qqline(wait_time_sorted)\n",
    "par(mfrow = c(1, 1))\n"
   ]
  },
  {
   "cell_type": "code",
   "execution_count": 15,
   "id": "673a35a3-7093-4804-824e-009c0db5acfa",
   "metadata": {},
   "outputs": [
    {
     "data": {
      "text/plain": [
       "[1] Binomial distribution"
      ]
     },
     "metadata": {},
     "output_type": "display_data"
    },
    {
     "data": {
      "text/plain": [
       "[1] True value: p = 0.48"
      ]
     },
     "metadata": {},
     "output_type": "display_data"
    },
    {
     "data": {
      "image/png": "[encoded data removed]",
      "text/plain": [
       "Plot with title \"Likelihood function (max. at 0.60)\""
      ]
     },
     "metadata": {
      "image/png": {
       "height": 420,
       "width": 420
      }
     },
     "output_type": "display_data"
    }
   ],
   "source": [
    "#likelihood of hot_drinks\n",
    "nobs <- 100\n",
    "noquote('Binomial distribution')\n",
    "numtrials <- 1\n",
    "psuccess <- prob1\n",
    "noquote(sprintf('True value: p = %.2f', psuccess))\n",
    "data <- rbinom(nobs, size=numtrials, prob=psuccess)\n",
    "muvals = seq(0,1,0.1)\n",
    "\n",
    "# Compute likelihood function for this sample realisation\n",
    "likelihood <- rep(0, length(muvals))\n",
    "\n",
    "for (idx in 1:length(muvals)) {\n",
    "    # Binomial\n",
    "    x = dbinom(data, size=numtrials, prob=muvals[idx])\n",
    "    # print(x)\n",
    "    likelihood[idx] <- prod(x)\n",
    "    # print(likelihood)\n",
    "}\n",
    "# Plot likelihood function and maximum likelihood estimator\n",
    "mle <- muvals[likelihood == max(likelihood)]\n",
    "plot(muvals, likelihood, type='l', xlab='mu', ylab='Likelihood',\n",
    "    main=sprintf('Likelihood function (max. at %.2f)', mle))\n",
    "grid()\n"
   ]
  },
  {
   "cell_type": "code",
   "execution_count": 16,
   "id": "9e29ea07-e026-4e63-a226-a9639009593c",
   "metadata": {
    "scrolled": true
   },
   "outputs": [
    {
     "name": "stdout",
     "output_type": "stream",
     "text": [
      "[1] -0.01211111 -0.02140523\n",
      "[1] 0.004774679 0.004906473\n"
     ]
    }
   ],
   "source": [
    "# Bias in and mean squared error in hot_drinks\n",
    "nobs <- 50\n",
    "bias <- matrix(0, nrow=nobs, ncol=2)\n",
    "mse <- matrix(0, nrow=nobs, ncol=2)\n",
    "mu <- mean(unlist(foods[1]))\n",
    "for (rep in 1:nobs) {\n",
    "    pts <- rbinom(nobs, size=1, prob=prob1)\n",
    "    xbar <- mean(pts) # sample mean\n",
    "    nest <- sum(pts)/(nobs+1) # new estimator\n",
    "    bias[rep,] <- c(xbar - mu, nest - mu)\n",
    "    mse[rep,]  <- c((xbar - mu)**2, (nest - mu)**2)\n",
    "}\n",
    "print(colMeans(bias))\n",
    "print(colMeans(mse))"
   ]
  },
  {
   "cell_type": "code",
   "execution_count": 17,
   "id": "5b03852d-bf82-4ed0-8346-d0e84c5fa49e",
   "metadata": {},
   "outputs": [],
   "source": [
    "\n",
    "\n",
    "# function to compute confidence interval\n",
    "compute_ci <- function(nobs, conf=0.95){\n",
    "    \n",
    "    npts <- length(nobs)\n",
    "    z_lower <- qnorm((1-conf)/2, 0, 1)\n",
    "    z_upper <- qnorm(1-(1-conf)/2, 0, 1)\n",
    "    \n",
    "    xbar <- mean(nobs)\n",
    "    sigma <- sd(nobs)    \n",
    "    xz_lower <- xbar - z_upper * sigma/sqrt(npts)\n",
    "    xz_upper <- xbar + z_upper * sigma/sqrt(npts)\n",
    "    \n",
    "    return(c(xz_lower, xz_upper))\n",
    "}\n",
    "\n",
    "# set parameters\n",
    "nreps <-50\n",
    "conf <- 0.95\n",
    "xbar = mean(foods[,1])\n",
    "\n",
    "intervals <- c()\n",
    "for (rep in 1:nreps) {\n",
    "    # using random values from binomial distribution instead of sample for sampling\n",
    "    pts <- rbinom(30, size=1, p=prob1)\n",
    "    # pts <- sample(foods[,1],size = 30, replace=TRUE)\n",
    "    ci <- compute_ci(pts, conf)\n",
    "    intervals <- rbind(intervals, ci) # inefficient\n",
    "}\n",
    "\n",
    "# record whether interval contains the mean\n",
    "boo <- logical(nreps)\n",
    "# print(boo)\n",
    "for (rep in 1:nreps){\n",
    "    boo[rep]<- (mu >= intervals[rep,1]) & (mu <= intervals[rep,2]) \n",
    "}\n"
   ]
  },
  {
   "cell_type": "code",
   "execution_count": 18,
   "id": "56b1e507-4c55-4be0-9d29-b52c5eb1dfee",
   "metadata": {},
   "outputs": [
    {
     "data": {
      "text/plain": [
       "[1] theoretical confidence level  = 0.95"
      ]
     },
     "metadata": {},
     "output_type": "display_data"
    },
    {
     "data": {
      "text/plain": [
       "[1] experimental confidence level = 0.90"
      ]
     },
     "metadata": {},
     "output_type": "display_data"
    },
    {
     "data": {
      "image/png": "[encoded data removed]",
      "text/plain": [
       "plot without title"
      ]
     },
     "metadata": {
      "image/png": {
       "height": 420,
       "width": 420
      }
     },
     "output_type": "display_data"
    }
   ],
   "source": [
    "# info\n",
    "noquote(sprintf('theoretical confidence level  = %.2f', conf))\n",
    "noquote(sprintf('experimental confidence level = %.2f', sum(boo)/nreps))\n",
    "\n",
    "# checking confidence interval of hot drinks\n",
    "nplots <- 50\n",
    "xlims <- c(min(intervals[1:nplots,1]), max(intervals[1:nplots,2]))\n",
    "plot(c(), xlim=xlims, ylim=c(0.5, nplots+0.5), yaxt='none', xlab='', ylab='')\n",
    "for (rep in 1:nreps) {\n",
    "    lines(intervals[rep,], c(rep,rep), lwd=3, col=c('red','chartreuse3')[boo[rep]+1])\n",
    "}\n",
    "abline(v=mu, lty=3, lwd=3, col='blue')"
   ]
  },
  {
   "cell_type": "code",
   "execution_count": 19,
   "id": "f63c3a75-7aab-40db-99c3-2760ee1a4393",
   "metadata": {},
   "outputs": [],
   "source": [
    "# actual mean is well within the confidence interval "
   ]
  },
  {
   "cell_type": "code",
   "execution_count": 20,
   "id": "6c2c13c3-efbb-4f9f-a13a-618dd2d3acb1",
   "metadata": {},
   "outputs": [],
   "source": [
    "# Define function to compute confidence interval for a mean for left tail\n",
    "compute_ci_leq <- function(pts, conf=0.95){\n",
    "\n",
    "    npts <- length(pts)\n",
    "    t_val <- qt(1-conf, df=npts-1)\n",
    "\n",
    "    xbar <- mean(pts)\n",
    "    s <- sd(pts)\n",
    "    xt_val <- xbar - t_val * s/sqrt(npts)\n",
    "\n",
    "    return(xt_val)\n",
    "}"
   ]
  },
  {
   "cell_type": "code",
   "execution_count": 21,
   "id": "06f768b2-4e64-440f-9d9f-018f8982009a",
   "metadata": {},
   "outputs": [],
   "source": [
    "# Monte Carlo experiment to test H0: mew=60 and H1: mew < .60 \n",
    "# Test types:\n",
    "test_type = \"leq\"\n",
    "\n",
    "# set parameters\n",
    "# npts <- 20\n",
    "# mu <- 0\n",
    "mu <- mean(foods[,1])\n",
    "# sigma <- 1\n",
    "conf <- 0.95\n",
    "\n",
    "# set expt parameters\n",
    "nreps <-50\n",
    "\n",
    "# repeat\n",
    "intervals <- c()\n",
    "for (rep in 1:nreps) {\n",
    "    # pts <- rnorm(npts, mean=mu, sd=sigma)\n",
    "    # pts <- sample(que_time, size=30, replace = TRUE)\n",
    "    pts <- rbinom(30,1,p=mu)\n",
    "    # print(pts)\n",
    "    ci <- compute_ci_leq(pts, conf)    \n",
    "    intervals <- rbind(intervals, ci) # inefficient\n",
    "}"
   ]
  },
  {
   "cell_type": "code",
   "execution_count": 22,
   "id": "c30da79f-3179-4871-aded-866a7e673bc6",
   "metadata": {},
   "outputs": [],
   "source": [
    "# Set the value of mu_0 in the hypothesis test.\n",
    "mu_0 <- .60\n",
    "\n",
    "# record the outcome of each test\n",
    "test_outcomes <- c(1:nreps)\n",
    "for (rep in 1:nreps){\n",
    "    test_outcomes[rep] <- 1 + (mu_0 > intervals[rep]) + 2*(mu < mu_0)\n",
    "}\n"
   ]
  },
  {
   "cell_type": "code",
   "execution_count": 23,
   "id": "97dcfa4d-eda0-415a-977b-e1b3871e9ac4",
   "metadata": {},
   "outputs": [
    {
     "data": {
      "image/png": "[encoded data removed]",
      "text/plain": [
       "Plot with title \"*\"",
       "Plot with title \"\"Result of \" * 50 * \" hypothesis tests of type \" * (\"H\"[0] * \" : \" * mu == mu[0]) * \" and \"\"",
       "Plot with title \"\"H\"[1] * \" : \" * mu * \"<\" * mu[0]\""
      ]
     },
     "metadata": {
      "image/png": {
       "height": 600,
       "width": 720
      }
     },
     "output_type": "display_data"
    }
   ],
   "source": [
    "# info\n",
    "# noquote(sprintf('theoretical confidence level  = %.2f', conf))\n",
    "# noquote(sprintf('experimental confidence level = %.2f', sum(boo)/nreps))\n",
    "\n",
    "options(repr.plot.width=12, repr.plot.height=10)\n",
    "# plot the intervals\n",
    "nplots <- 50\n",
    "\n",
    "# set bounds and the title\n",
    "max_from_mu <- max(intervals[1:nplots]) - mu\n",
    "alt_hyp <- quote('H'[1]*' : '*mu*'<'*mu[0])\n",
    "\n",
    "max_from_mu <- max(max_from_mu,abs(mu_0-mu))\n",
    "xlims <- c(mu - max_from_mu, mu + 1.5*max_from_mu)\n",
    "null_hyp <- quote('H'[0]*' : '*mu==mu[0])\n",
    "title <- substitute(\"Result of \"*nplots*\" hypothesis tests of type \"*nn*\" and \"*aa,list(nplots=nplots,nn=null_hyp,aa=alt_hyp))\n",
    "colours <- c('orange','red','blue','chartreuse3')\n",
    "plot(c(), xlim=xlims, ylim=c(0.5, nplots+0.5), yaxt='none', xlab='', ylab='', main=title)\n",
    "\n",
    "for (rep in 1:nreps) {    \n",
    "    lines(c(mu-max_from_mu,intervals[rep]), c(rep,rep), lwd=3, col=colours[test_outcomes[rep]])\n",
    "}\n",
    "abline(v=mu, lty=3, lwd=3, col='navyblue')\n",
    "text(x=mu+.04*max_from_mu,y=-1,expression(mu), col='navyblue')\n",
    "abline(v=mu_0, lty=3, lwd=3, col='purple')\n",
    "text(x=mu_0+.04*max_from_mu,y=-1,expression(mu[0]), col='purple')\n",
    "\n",
    "\n",
    "xleg <- .25*par(\"usr\")[1] + .75*par(\"usr\")[2]\n",
    "yleg <- .45*par(\"usr\")[3] + .55*par(\"usr\")[4]\n",
    "legend(x=xleg, y=yleg, c(quote(\"Correctly Retain H\"[0]), \"Type I error\", \"Type II error\", quote(\"Correctly Reject H\"[0])), fill=colours)"
   ]
  },
  {
   "cell_type": "code",
   "execution_count": 24,
   "id": "8cb2f306-eebb-4ce0-9cb6-51cb255e9854",
   "metadata": {},
   "outputs": [],
   "source": [
    "# results of acceptance tests suggests, since there are lots of type 2 error and mew0 was greater than mew we can assume that actual mean(population mean) might be more than the mean "
   ]
  },
  {
   "cell_type": "code",
   "execution_count": 25,
   "id": "80173d09-7e60-408b-832d-9fa7fcdc2f14",
   "metadata": {},
   "outputs": [],
   "source": [
    "# Implement t-test directly\n",
    "do_test <- function(pts, mu_null, alt='LTT', sig=0.05) {\n",
    "\n",
    "    # set critical values (quantiles of the null distribution)\n",
    "    cv_lower <- -Inf\n",
    "    cv_upper <- Inf\n",
    "    cv_upper <- qt(1-sig, df=npts-1)\n",
    "    npts <- length(pts)\n",
    "    xbar <- mean(pts)\n",
    "    s <- sd(pts)\n",
    "    xcv_lower <- xbar + cv_lower*s/sqrt(npts) # scale and shift\n",
    "    xcv_upper <- xbar + cv_upper*s/sqrt(npts)\n",
    "#     print(paste('Confidence interval for mu_true: [', xcv_lower, ',', xcv_upper, ']'))\n",
    "    \n",
    "    # make decision\n",
    "    if (xcv_lower <= mu_null & mu_null <= xcv_upper) {\n",
    "        return('Retain')\n",
    "    } else {\n",
    "        return('Reject')\n",
    "    }    \n",
    "}"
   ]
  },
  {
   "cell_type": "code",
   "execution_count": 26,
   "id": "82cf5046-bf84-42d8-be7f-3a989e573b0a",
   "metadata": {},
   "outputs": [
    {
     "data": {
      "text/html": [
       "'False positive rate = 0.06'"
      ],
      "text/latex": [
       "'False positive rate = 0.06'"
      ],
      "text/markdown": [
       "'False positive rate = 0.06'"
      ],
      "text/plain": [
       "[1] \"False positive rate = 0.06\""
      ]
     },
     "metadata": {},
     "output_type": "display_data"
    }
   ],
   "source": [
    "# Monte Carlo estimate of significance level (false positive rate)\n",
    "\n",
    "# Set parameters\n",
    "npts <- 20       # sample size\n",
    "mu_true <- mean(foods[,1])     # true mean\n",
    "sigma_true <- sd(foods[,1])  # true stddev\n",
    "alpha <- 0.05\n",
    "\n",
    "# repeat\n",
    "nreps <- 50 # change me\n",
    "decisions <- character(nreps)\n",
    "for (rep in 1:nreps) {\n",
    "\n",
    "    # create sample\n",
    "    pts <- rnorm(npts, mean=mu_true, sd=sigma_true)\n",
    "    \n",
    "    # test with mu_null = mu_true (i.e. H0 is true)\n",
    "    decisions[rep] <- do_test(pts, mu_true, sig=alpha) \n",
    "\n",
    "}\n",
    "# info\n",
    "paste('False positive rate =', sum(decisions=='Reject')/nreps)"
   ]
  },
  {
   "cell_type": "code",
   "execution_count": 27,
   "id": "739ad8f6-d5c7-495a-afd9-7275f980abbe",
   "metadata": {},
   "outputs": [
    {
     "data": {
      "image/png": "[encoded data removed]",
      "text/plain": [
       "plot without title"
      ]
     },
     "metadata": {
      "image/png": {
       "height": 600,
       "width": 720
      }
     },
     "output_type": "display_data"
    }
   ],
   "source": [
    "# stratification\n",
    "strata <- data.frame(foods, hour_of_day=df$hour_of_day)\n",
    "\n",
    "x <- length(df$hour_of_day)\n",
    "eights <- round((length(strata$hour_of_day[strata$hour_of_day==8])/x)*30)\n",
    "nines <- round((length(strata$hour_of_day[strata$hour_of_day==9])/x)*30)\n",
    "tens <- round((length(strata$hour_of_day[strata$hour_of_day==10])/x)*30)\n",
    "\n",
    "rows_8 <- strata[strata$hour_of_day==8,]\n",
    "rows_9 <- strata[strata$hour_of_day==9,]\n",
    "rows_10 <- strata[strata$hour_of_day==10,]\n",
    "\n",
    "# perform one way anova tests of samples with cold_drink and hour_of_day are parameters\n",
    "f_values <- c()\n",
    "for (i in 1:50) {\n",
    "    a = rows_8[sample(nrow(rows_8), size = eights),]\n",
    "    b = rows_9[sample(nrow(rows_9), size = nines),]\n",
    "    c = rows_10[sample(nrow(rows_10), size = tens),]\n",
    "    stratified <- rbind(a,b,c)\n",
    "    anova_results <- anova(aov(stratified[,1]~stratified[,6]))    \n",
    "    f_values<-c(f_values,anova_results[[\"F value\"]][1])\n",
    "}\n",
    "anova_results <- anova(aov(strata[,1]~strata[,6]))    \n",
    "f_value<-anova_results[[\"F value\"]][1]\n",
    "\n",
    "nreps <- 50\n",
    "max_f <- max(f_values)\n",
    "xlims <- c(0, max_f+2)\n",
    "plot(c(), xlim=c(0.5, nreps+0.5), ylim=c(-2,max_f), yaxt='none', xlab='number of sampling', ylab='F values of samples')\n",
    "test_outcomes <- c(1:nreps)\n",
    "for (rep in 1:nreps){\n",
    "    test_outcomes[rep] <- 1+2*(f_values[rep] < f_value)\n",
    "    lines(c(rep,rep), c(-2,f_values[rep]), lwd=3, col=colours[test_outcomes[rep]])    \n",
    "}\n",
    "abline(h=f_value, col=\"blue\",lty=3, lwd= 3)\n",
    "text(x=.5,y=-.1+f_value, \"F Value\", col='navyblue')"
   ]
  },
  {
   "cell_type": "code",
   "execution_count": null,
   "id": "12de0a4c-963a-4a60-8b06-35200b56f5d9",
   "metadata": {},
   "outputs": [],
   "source": [
    "# result of anova tests suggests that there is not enough evidence to reject the null hypothesis for those individual samples. \n",
    "# i.e means of hour_of_day values of hot_drinks are likely equal"
   ]
  }
 ],
 "metadata": {
  "kernelspec": {
   "display_name": "R",
   "language": "R",
   "name": "ir"
  },
  "language_info": {
   "codemirror_mode": "r",
   "file_extension": ".r",
   "mimetype": "text/x-r-source",
   "name": "R",
   "pygments_lexer": "r",
   "version": "4.3.1"
  }
 },
 "nbformat": 4,
 "nbformat_minor": 5
}
